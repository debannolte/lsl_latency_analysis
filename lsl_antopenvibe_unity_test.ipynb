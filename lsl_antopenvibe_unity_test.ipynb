{
 "cells": [
  {
   "cell_type": "markdown",
   "metadata": {},
   "source": [
    "### __XDF Data Analysis of LSL timestamps (Unity + EEG)__\n",
    "#### __TODO__\n",
    "* [x] Read XDF file and header and select the right data (timestamps and values)\n",
    "* [x] Compute the timestamps from 0\n",
    "* [x] Visualize the data: unity audio vs microphone and unity color vs photodiode\n",
    "* [x] Compare the timestamps (length, duration, sample count..): Original vs Calculated vs FileInfo\n",
    "* [x] Descriptive statistics of timestamps distribution and plot\n",
    "* [ ] Actual latency test: select the microphone and photodiode peaks (starting points) and compare with the unity ones\n",
    "* [ ] Test all recordings\n",
    "* [ ] Make and test long recordings (half an hour) and check with two computers (local network setup)\n",
    "* [ ] Find out why sometimes Unity timestamps start before the EEG ones\n",
    "* [ ] ..."
   ]
  },
  {
   "cell_type": "markdown",
   "metadata": {},
   "source": [
    "#### __Dependencies__"
   ]
  },
  {
   "cell_type": "code",
   "execution_count": 11,
   "metadata": {},
   "outputs": [],
   "source": [
    "import matplotlib.pyplot as plt\n",
    "import numpy as np\n",
    "import pandas as pd\n",
    "import pyxdf\n",
    "from scipy.signal import find_peaks\n",
    "import seaborn as sns"
   ]
  },
  {
   "cell_type": "markdown",
   "metadata": {},
   "source": [
    "#### __Read XDF data__"
   ]
  },
  {
   "cell_type": "code",
   "execution_count": 12,
   "metadata": {},
   "outputs": [
    {
     "data": {
      "text/plain": [
       "{'info': defaultdict(list, {'version': ['1.0']})}"
      ]
     },
     "execution_count": 12,
     "metadata": {},
     "output_type": "execute_result"
    }
   ],
   "source": [
    "streams, fileheader = pyxdf.load_xdf(\"data/ftest1.xdf\")  # load the XDF file\n",
    "fileheader  # only a dict describing the version and format of the XDF file"
   ]
  },
  {
   "cell_type": "markdown",
   "metadata": {},
   "source": [
    "#### __Read EEG and Unity timestamps and sensor data__"
   ]
  },
  {
   "cell_type": "code",
   "execution_count": 13,
   "metadata": {
    "slideshow": {
     "slide_type": "slide"
    }
   },
   "outputs": [],
   "source": [
    "# Time values\n",
    "a_ch = 0  # constant to select the unity audio stream\n",
    "c_ch = 2  # constant to select the unity color stream\n",
    "e_ch = 1  # constant to select the eeg stream\n",
    "u_ts = streams[a_ch][\"time_stamps\"]  # unity timestamps\n",
    "e_ts = streams[e_ch][\"time_stamps\"]  # eeg timestamps\n",
    "\n",
    "# Diode values\n",
    "eeg = np.transpose(streams[e_ch][\"time_series\"])\n",
    "# select the photodiode and microphone sensor information\n",
    "e_color = eeg[64]\n",
    "e_audio = eeg[69]\n",
    "\n",
    "# select unity audio and background color change markers\n",
    "# format: [currentFrame, value, timestamp]\n",
    "u_color = np.transpose(streams[c_ch][\"time_series\"])\n",
    "u_audio = np.transpose(streams[a_ch][\"time_series\"])\n",
    "\n",
    "e_color = -e_color  # invert diode data polarity"
   ]
  },
  {
   "cell_type": "markdown",
   "metadata": {},
   "source": [
    "#### __Preprocess data: calculate meaningful timestamps__"
   ]
  },
  {
   "cell_type": "code",
   "execution_count": 14,
   "metadata": {
    "slideshow": {
     "slide_type": "slide"
    }
   },
   "outputs": [],
   "source": [
    "# calculate time values for unity and eeg from 0\n",
    "e_time = [0]\n",
    "length = len(e_ts)\n",
    "[e_time.append(e_ts[i + 1] - e_ts[0]) for i in range(length) if i < length - 1]\n",
    "\n",
    "u_time = [0]\n",
    "length = len(u_ts)\n",
    "[u_time.append(u_ts[i + 1] - u_ts[0]) for i in range(length) if i < length - 1]\n",
    "\n",
    "# calculate the diff and shift the values left (negative) or right (positive)\n",
    "diff = u_ts[0] - e_ts[0]\n",
    "u_time = [i + diff for i in u_time]"
   ]
  },
  {
   "cell_type": "markdown",
   "metadata": {},
   "source": [
    "#### __Data preview__"
   ]
  },
  {
   "cell_type": "code",
   "execution_count": 15,
   "metadata": {
    "slideshow": {
     "slide_type": "slide"
    }
   },
   "outputs": [
    {
     "data": {
      "application/vnd.jupyter.widget-view+json": {
       "model_id": "",
       "version_major": 2,
       "version_minor": 0
      },
      "text/plain": [
       "Canvas(toolbar=Toolbar(toolitems=[('Home', 'Reset original view', 'home', 'home'), ('Back', 'Back to previous …"
      ]
     },
     "metadata": {},
     "output_type": "display_data"
    }
   ],
   "source": [
    "%matplotlib widget\n",
    "sns.set(rc={\"figure.figsize\": (14, 5)})  # set figure size\n",
    "sns.set_style(\"darkgrid\")  # set seaborn plotting style\n",
    "\n",
    "# plot 5 seconds of diode and microphone raw data\n",
    "five_sec = 1024 * 1  # N of eeg in 5 s\n",
    "f_sec = 90 * 1  # N of unity in 5 s\n",
    "plt.plot(e_time[:five_sec], e_color[:five_sec])\n",
    "plt.plot(e_time[:five_sec], e_audio[:five_sec])\n",
    "plt.plot(u_time[:f_sec], u_color[1][:f_sec] * 10000, marker=\"o\")\n",
    "plt.plot(u_time[:f_sec], u_audio[1][:f_sec] * 10000, marker=\"x\")\n",
    "plt.title(f\"Sample: N = {five_sec}\")\n",
    "plt.ylabel(\"Sensor value\")\n",
    "plt.xlabel(\"Time (s)\")\n",
    "plt.xticks(np.arange(0, 1, step=0.05))\n",
    "labels = [\"photosensor\", \"microphone\", \"color\", \"audio\"]\n",
    "plt.legend(labels, loc=\"upper right\")  # set the legend\n",
    "plt.show()"
   ]
  },
  {
   "cell_type": "markdown",
   "metadata": {},
   "source": [
    "#### __Timestamps comparison (original vs computed vs file info)__"
   ]
  },
  {
   "cell_type": "code",
   "execution_count": 16,
   "metadata": {},
   "outputs": [
    {
     "name": "stdout",
     "output_type": "stream",
     "text": [
      "Original timestamps\n",
      "===================\n",
      "EEG first timestamp: 597683.7294010719\n",
      "EEG last timestamp: 597805.7615867447\n",
      "EEG length: 122.03218567278236\n",
      "EEG sample count: 124960\n",
      "Unity first timestamp: 597683.7352238147\n",
      "Unity last timestamp: 597805.735361065\n",
      "Unity length: 122.00013725028839\n",
      "Unity sample count: 10982\n",
      "Start difference: 0.005822742823511362\n",
      "Length difference: 0.032048422493971884\n",
      "\n",
      "Computed timestamps\n",
      "====================\n",
      "EEG first timestamp: 0\n",
      "EEG last timestamp: 122.03218567278236\n",
      "EEG length: 122.03218567278236\n",
      "EEG sample count: 124960\n",
      "Unity first timestamp: 0.005822742823511362\n",
      "Unity last timestamp: 122.0059599931119\n",
      "Unity length: 122.00013725028839\n",
      "Unity sample count: 10982\n",
      "Start difference: 0.005822742823511362\n",
      "Length difference: 0.032048422493971884\n",
      "\n",
      "File info\n",
      "========\n",
      "EEG stream created at: 597605.9337288000\n",
      "Unity stream created at: 597631.6023521000\n",
      "EEG first timestamp: 597683.7440407\n",
      "EEG last timestamp: 597805.7442204\n",
      "EEG sample count: 124959\n",
      "Unity first timestamp: 597683.7352271\n",
      "Unity last timestamp: 597805.7353644\n",
      "Unity sample count: 10981\n"
     ]
    }
   ],
   "source": [
    "# store unity and eeg timestamps as pandas series\n",
    "# dataframe is not needed since it's 1D array\n",
    "\n",
    "eeg_t = pd.Series(streams[e_ch][\"time_stamps\"])\n",
    "unity_t = pd.Series(streams[a_ch][\"time_stamps\"])\n",
    "\n",
    "print(\"Original timestamps\")\n",
    "print(\"===================\")\n",
    "u_start = u_ts[0]\n",
    "u_end = u_ts[-1]\n",
    "e_start = e_ts[0]\n",
    "e_end = e_ts[-1]\n",
    "u_length = u_end - u_start\n",
    "e_length = e_end - e_start\n",
    "print(f\"EEG first timestamp: {e_start}\")\n",
    "print(f\"EEG last timestamp: {e_end}\")\n",
    "print(f\"EEG length: {e_length}\")\n",
    "print(f\"EEG sample count: {len(e_ts)}\")\n",
    "print(f\"Unity first timestamp: {u_start}\")\n",
    "print(f\"Unity last timestamp: {u_end}\")\n",
    "print(f\"Unity length: {u_length}\")\n",
    "print(f\"Unity sample count: {len(u_ts)}\")\n",
    "print(f\"Start difference: {abs(u_start - e_start)}\")\n",
    "print(f\"Length difference: {abs(u_length - e_length)}\")\n",
    "\n",
    "print(\"\")\n",
    "\n",
    "print(\"Computed timestamps\")\n",
    "print(\"====================\")\n",
    "u_start = u_time[0]\n",
    "# [-1:] returns the index and the type as well but [-1:].values[0] also works\n",
    "u_end = u_time[-1]\n",
    "e_start = e_time[0]\n",
    "e_end = e_time[-1]\n",
    "u_length = u_end - u_start\n",
    "e_length = e_end - e_start\n",
    "print(f\"EEG first timestamp: {e_start}\")\n",
    "print(f\"EEG last timestamp: {e_end}\")\n",
    "print(f\"EEG length: {e_length}\")\n",
    "print(f\"EEG sample count: {len(e_time)}\")\n",
    "print(f\"Unity first timestamp: {u_start}\")\n",
    "print(f\"Unity last timestamp: {u_end}\")\n",
    "print(f\"Unity length: {u_length}\")\n",
    "print(f\"Unity sample count: {len(u_time)}\")\n",
    "print(f\"Start difference: {abs(u_start - e_start)}\")\n",
    "print(f\"Length difference: {abs(u_length - e_length)}\")\n",
    "\n",
    "print(\"\")\n",
    "\n",
    "print(\"File info\")\n",
    "print(\"========\")\n",
    "e_info = streams[e_ch][\"info\"]\n",
    "e_footer = streams[e_ch][\"footer\"][\"info\"]\n",
    "u_info = streams[a_ch][\"info\"]\n",
    "u_footer = streams[a_ch][\"footer\"][\"info\"]\n",
    "\n",
    "print(f\"EEG stream created at: {e_info['created_at'][0]}\")\n",
    "print(f\"Unity stream created at: {u_info['created_at'][0]}\")\n",
    "print(f\"EEG first timestamp: {e_footer['first_timestamp'][0]}\")\n",
    "print(f\"EEG last timestamp: {e_footer['last_timestamp'][0]}\")\n",
    "print(f\"EEG sample count: {e_footer['sample_count'][0]}\")\n",
    "print(f\"Unity first timestamp: {u_footer['first_timestamp'][0]}\")\n",
    "print(f\"Unity last timestamp: {u_footer['last_timestamp'][0]}\")\n",
    "print(f\"Unity sample count: {u_footer['sample_count'][0]}\")"
   ]
  },
  {
   "cell_type": "markdown",
   "metadata": {},
   "source": [
    "#### __Descriptive statistics: EEG timestamps__"
   ]
  },
  {
   "cell_type": "code",
   "execution_count": 17,
   "metadata": {},
   "outputs": [
    {
     "data": {
      "text/html": [
       "<div>\n",
       "<style scoped>\n",
       "    .dataframe tbody tr th:only-of-type {\n",
       "        vertical-align: middle;\n",
       "    }\n",
       "\n",
       "    .dataframe tbody tr th {\n",
       "        vertical-align: top;\n",
       "    }\n",
       "\n",
       "    .dataframe thead th {\n",
       "        text-align: right;\n",
       "    }\n",
       "</style>\n",
       "<table border=\"1\" class=\"dataframe\">\n",
       "  <thead>\n",
       "    <tr style=\"text-align: right;\">\n",
       "      <th></th>\n",
       "      <th>eeg</th>\n",
       "    </tr>\n",
       "  </thead>\n",
       "  <tbody>\n",
       "    <tr>\n",
       "      <th>count</th>\n",
       "      <td>1.249590e+05</td>\n",
       "    </tr>\n",
       "    <tr>\n",
       "      <th>mean</th>\n",
       "      <td>9.765778e-04</td>\n",
       "    </tr>\n",
       "    <tr>\n",
       "      <th>std</th>\n",
       "      <td>5.792683e-11</td>\n",
       "    </tr>\n",
       "    <tr>\n",
       "      <th>min</th>\n",
       "      <td>9.765778e-04</td>\n",
       "    </tr>\n",
       "    <tr>\n",
       "      <th>25%</th>\n",
       "      <td>9.765778e-04</td>\n",
       "    </tr>\n",
       "    <tr>\n",
       "      <th>50%</th>\n",
       "      <td>9.765778e-04</td>\n",
       "    </tr>\n",
       "    <tr>\n",
       "      <th>75%</th>\n",
       "      <td>9.765779e-04</td>\n",
       "    </tr>\n",
       "    <tr>\n",
       "      <th>max</th>\n",
       "      <td>9.765779e-04</td>\n",
       "    </tr>\n",
       "  </tbody>\n",
       "</table>\n",
       "</div>"
      ],
      "text/plain": [
       "                eeg\n",
       "count  1.249590e+05\n",
       "mean   9.765778e-04\n",
       "std    5.792683e-11\n",
       "min    9.765778e-04\n",
       "25%    9.765778e-04\n",
       "50%    9.765778e-04\n",
       "75%    9.765779e-04\n",
       "max    9.765779e-04"
      ]
     },
     "execution_count": 17,
     "metadata": {},
     "output_type": "execute_result"
    }
   ],
   "source": [
    "e_time_dist = [e_ts[i + 1] - e_ts[i] for i in range(len(e_ts) - 1)]\n",
    "u_time_dist = [u_ts[i + 1] - u_ts[i] for i in range(len(u_ts) - 1)]\n",
    "\n",
    "e_time_dist = pd.DataFrame(np.array(e_time_dist), columns=[\"eeg\"])\n",
    "u_time_dist = pd.DataFrame(np.array(u_time_dist), columns=[\"unity\"])\n",
    "\n",
    "e_time_dist.describe()"
   ]
  },
  {
   "cell_type": "markdown",
   "metadata": {},
   "source": [
    "The EEG samples look really constant over time\n",
    "\n",
    "#### __Descriptive statistics: Unity timestamps__"
   ]
  },
  {
   "cell_type": "code",
   "execution_count": 18,
   "metadata": {},
   "outputs": [
    {
     "data": {
      "text/html": [
       "<div>\n",
       "<style scoped>\n",
       "    .dataframe tbody tr th:only-of-type {\n",
       "        vertical-align: middle;\n",
       "    }\n",
       "\n",
       "    .dataframe tbody tr th {\n",
       "        vertical-align: top;\n",
       "    }\n",
       "\n",
       "    .dataframe thead th {\n",
       "        text-align: right;\n",
       "    }\n",
       "</style>\n",
       "<table border=\"1\" class=\"dataframe\">\n",
       "  <thead>\n",
       "    <tr style=\"text-align: right;\">\n",
       "      <th></th>\n",
       "      <th>unity</th>\n",
       "    </tr>\n",
       "  </thead>\n",
       "  <tbody>\n",
       "    <tr>\n",
       "      <th>count</th>\n",
       "      <td>10981.000000</td>\n",
       "    </tr>\n",
       "    <tr>\n",
       "      <th>mean</th>\n",
       "      <td>0.011110</td>\n",
       "    </tr>\n",
       "    <tr>\n",
       "      <th>std</th>\n",
       "      <td>0.001141</td>\n",
       "    </tr>\n",
       "    <tr>\n",
       "      <th>min</th>\n",
       "      <td>0.000023</td>\n",
       "    </tr>\n",
       "    <tr>\n",
       "      <th>25%</th>\n",
       "      <td>0.011022</td>\n",
       "    </tr>\n",
       "    <tr>\n",
       "      <th>50%</th>\n",
       "      <td>0.011109</td>\n",
       "    </tr>\n",
       "    <tr>\n",
       "      <th>75%</th>\n",
       "      <td>0.011195</td>\n",
       "    </tr>\n",
       "    <tr>\n",
       "      <th>max</th>\n",
       "      <td>0.022469</td>\n",
       "    </tr>\n",
       "  </tbody>\n",
       "</table>\n",
       "</div>"
      ],
      "text/plain": [
       "              unity\n",
       "count  10981.000000\n",
       "mean       0.011110\n",
       "std        0.001141\n",
       "min        0.000023\n",
       "25%        0.011022\n",
       "50%        0.011109\n",
       "75%        0.011195\n",
       "max        0.022469"
      ]
     },
     "execution_count": 18,
     "metadata": {},
     "output_type": "execute_result"
    }
   ],
   "source": [
    "u_time_dist.describe()"
   ]
  },
  {
   "cell_type": "markdown",
   "metadata": {},
   "source": [
    "It does not seem the case for the unity samples\n",
    "#### __Time sampling plot comparison__"
   ]
  },
  {
   "cell_type": "code",
   "execution_count": 22,
   "metadata": {},
   "outputs": [
    {
     "data": {
      "application/vnd.jupyter.widget-view+json": {
       "model_id": "b6aca20173ff4daa8a0d9d38368e7095",
       "version_major": 2,
       "version_minor": 0
      },
      "text/plain": [
       "Canvas(toolbar=Toolbar(toolitems=[('Home', 'Reset original view', 'home', 'home'), ('Back', 'Back to previous …"
      ]
     },
     "metadata": {},
     "output_type": "display_data"
    }
   ],
   "source": [
    "%matplotlib widget\n",
    "sns.set(rc={\"figure.figsize\": (3, 9)})  # set figure size\n",
    "sns.set_style(\"whitegrid\")  # set seaborn plotting style\n",
    "p = sns.boxplot(x=u_time_dist, orient=\"v\")\n",
    "p.set_title(\"Time distribution (s)\")\n",
    "plt.show()"
   ]
  },
  {
   "cell_type": "markdown",
   "metadata": {},
   "source": [
    "#### __Timestamps visualization in 1-second epochs__ (extra plots? not finished)"
   ]
  },
  {
   "cell_type": "code",
   "execution_count": 20,
   "metadata": {},
   "outputs": [],
   "source": [
    "%matplotlib inline\n",
    "# for t in range(1, int(eeg_t[eeg_t.last_valid_index()]) + 1):\n",
    "#     # select and plot eeg\n",
    "#     selected = eeg_t[eeg_t.between(t - 1, t)]\n",
    "#     eeg_l = len(selected)  # sample count for eeg\n",
    "#     sns.scatterplot(data=selected, marker=\"o\", s=50)\n",
    "#     # select and plot unity\n",
    "#     selected = unity_t[unity_t.between(t - 1, t)]\n",
    "#     unity_l = len(selected)  # sample count for eeg\n",
    "#     p = sns.scatterplot(data=selected, marker=\"d\", s=150)\n",
    "#     p.set_title(f\"Between {t-1}s and {t}s: eegN={eeg_l} unityN={unity_l}\")\n",
    "#     plt.legend(labels=[\"eeg\", \"unity\"])  # set the legend\n",
    "#     plt.show()  # display plot\n",
    "    "
   ]
  }
 ],
 "metadata": {
  "kernelspec": {
   "display_name": "xdf-python",
   "language": "python",
   "name": "xdf-python"
  },
  "language_info": {
   "codemirror_mode": {
    "name": "ipython",
    "version": 3
   },
   "file_extension": ".py",
   "mimetype": "text/x-python",
   "name": "python",
   "nbconvert_exporter": "python",
   "pygments_lexer": "ipython3",
   "version": "3.8.1"
  }
 },
 "nbformat": 4,
 "nbformat_minor": 4
}
